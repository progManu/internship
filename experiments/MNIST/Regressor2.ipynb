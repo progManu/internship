{
 "cells": [
  {
   "cell_type": "code",
   "execution_count": 1,
   "metadata": {},
   "outputs": [],
   "source": [
    "import matplotlib.pyplot as plt\n",
    "import torch\n",
    "import torchvision\n",
    "\n",
    "from RevMNIST2 import *\n",
    "\n",
    "import torch.nn.functional as F\n",
    "\n",
    "from tqdm import tqdm\n",
    "from statistics import fmean"
   ]
  },
  {
   "cell_type": "code",
   "execution_count": 2,
   "metadata": {},
   "outputs": [],
   "source": [
    "features = {}\n",
    "\n",
    "def get_features(name):\n",
    "    def hook(model, input, output):\n",
    "        features[name] = output\n",
    "    return hook"
   ]
  },
  {
   "cell_type": "code",
   "execution_count": 3,
   "metadata": {},
   "outputs": [],
   "source": [
    "trainset = RevMNIST2(root='./data/', train=True, offset=None, filt_labels=None)\n",
    "testset = RevMNIST2(root='./data/', train=False, offset=None, filt_labels=None)\n",
    "trainloader = torch.utils.data.DataLoader(trainset, batch_size=512, shuffle=True)\n",
    "testloader = torch.utils.data.DataLoader(testset, batch_size=512, shuffle=False)"
   ]
  },
  {
   "cell_type": "code",
   "execution_count": 4,
   "metadata": {},
   "outputs": [
    {
     "data": {
      "text/plain": [
       "(60000, 10000)"
      ]
     },
     "execution_count": 4,
     "metadata": {},
     "output_type": "execute_result"
    }
   ],
   "source": [
    "trainset.__len__(), testset.__len__()"
   ]
  },
  {
   "cell_type": "code",
   "execution_count": 5,
   "metadata": {},
   "outputs": [],
   "source": [
    "device = torch.device(\"cuda\" if torch.cuda.is_available() else \"cpu\")"
   ]
  },
  {
   "cell_type": "code",
   "execution_count": 6,
   "metadata": {},
   "outputs": [
    {
     "name": "stderr",
     "output_type": "stream",
     "text": [
      "c:\\Users\\goate\\Desktop\\internship\\experiments\\MNIST\\RevMNIST2.py:99: UserWarning: To copy construct from a tensor, it is recommended to use sourceTensor.clone().detach() or sourceTensor.clone().detach().requires_grad_(True), rather than torch.tensor(sourceTensor).\n",
      "  return (image1, image2, torch.tensor(image).permute(2, 0, 1), label, torch.tensor(T1[:, 2]), torch.tensor(T2[:, 2]))\n"
     ]
    },
    {
     "data": {
      "text/plain": [
       "(torch.Size([512, 1, 28, 28]),\n",
       " torch.Size([512, 1, 28, 28]),\n",
       " torch.Size([512]),\n",
       " torch.Size([512, 2]),\n",
       " torch.Size([512, 2]))"
      ]
     },
     "execution_count": 6,
     "metadata": {},
     "output_type": "execute_result"
    }
   ],
   "source": [
    "x1, x2, x0, label, t1, t2 = next(iter(testloader))\n",
    "x1.size(), x2.size(), label.size(), t1.size(), t2.size()"
   ]
  },
  {
   "cell_type": "code",
   "execution_count": 7,
   "metadata": {},
   "outputs": [
    {
     "data": {
      "text/plain": [
       "<torch.utils.hooks.RemovableHandle at 0x2594b298580>"
      ]
     },
     "execution_count": 7,
     "metadata": {},
     "output_type": "execute_result"
    }
   ],
   "source": [
    "# Define the neural network class\n",
    "class Regressor(torch.nn.Module):\n",
    "    def __init__(self):\n",
    "        super(Regressor, self).__init__()\n",
    "\n",
    "        self.emb1 = None\n",
    "        self.emb2 = None\n",
    "        # The input size is 28x28, which is 784\n",
    "        self.fcb = torch.nn.Sequential(\n",
    "            torch.nn.Linear(2 * 28 * 28, 2 * 28 * 28),\n",
    "            torch.nn.ReLU(),\n",
    "            torch.nn.Linear(2 * 28 * 28, 2 * 28 * 28),\n",
    "            torch.nn.ReLU(),\n",
    "            torch.nn.Linear(2 * 28 * 28, 28 * 28),\n",
    "            torch.nn.ReLU(),\n",
    "            torch.nn.Linear(28 * 28, 28 * 28),\n",
    "            torch.nn.ReLU(),\n",
    "            torch.nn.Linear(28 * 28, 28),\n",
    "            torch.nn.ReLU(),\n",
    "            torch.nn.Linear(28, 28),\n",
    "            torch.nn.ReLU(),\n",
    "            torch.nn.Linear(28, 4)\n",
    "        )\n",
    "\n",
    "    def forward(self, x):\n",
    "        x = x.view(-1, 2*28*28)  # Flatten the 28x28 input to a 784 vector\n",
    "        x = self.fcb(x)\n",
    "        return x\n",
    "\n",
    "# Example usage\n",
    "model = Regressor().to(device)\n",
    "\n",
    "model.fcb[11].register_forward_hook(get_features(\"embedding\"))"
   ]
  },
  {
   "cell_type": "code",
   "execution_count": 37,
   "metadata": {},
   "outputs": [
    {
     "data": {
      "text/plain": [
       "6788828"
      ]
     },
     "execution_count": 37,
     "metadata": {},
     "output_type": "execute_result"
    }
   ],
   "source": [
    "total_params = sum(p.numel() for p in model.parameters())\n",
    "total_params"
   ]
  },
  {
   "cell_type": "code",
   "execution_count": 8,
   "metadata": {},
   "outputs": [
    {
     "data": {
      "text/plain": [
       "'\\nclass SimpleCNN(torch.nn.Module):\\n    def __init__(self):\\n        super(SimpleCNN, self).__init__()\\n        self.emb1 = None\\n        self.emb2 = None\\n        # Define the layers of the CNN\\n        self.conv1 = torch.nn.Conv2d(in_channels=2, out_channels=16, kernel_size=3, stride=1)\\n        self.conv2 = torch.nn.Conv2d(in_channels=16, out_channels=16, kernel_size=4, stride=1)\\n        self.conv3 = torch.nn.Conv2d(in_channels=16, out_channels=2, kernel_size=5, stride=1)\\n        \\n        # Calculate the size after convolutions to flatten the feature map\\n        self.fc1 = torch.nn.Linear(2 * 19 * 19, 128)\\n        self.fc2 = torch.nn.Linear(128, 64)\\n        self.fc3 = torch.nn.Linear(64, 4)\\n    \\n    def forward(self, x):\\n        # Apply convolutions with ReLU activation and max pooling\\n\\n        x = F.relu(self.conv1(x))\\n        x = F.relu(self.conv2(x))\\n        x = F.relu(self.conv3(x))\\n\\n        batch_size, channels, x_dim, y_dim = x.size()\\n\\n        self.emb1 = x[:, 0, :, :].flatten(start_dim=1)\\n        self.emb2 = x[:, 1, :, :].flatten(start_dim=1)\\n        \\n        # Flatten the output from the conv layers\\n        x = x.view(x.size(0), -1)\\n        \\n        # Apply fully connected layers with ReLU\\n        x = F.relu(self.fc1(x))\\n        x = F.relu(self.fc2(x))\\n        \\n        # Final output layer (no activation since this is often used for classification)\\n        x = self.fc3(x)\\n        return x\\n\\n# Initialize the model\\nmodel = SimpleCNN()\\n\\n# Print the model summary\\nprint(model)\\n'"
      ]
     },
     "execution_count": 8,
     "metadata": {},
     "output_type": "execute_result"
    }
   ],
   "source": [
    "'''\n",
    "class SimpleCNN(torch.nn.Module):\n",
    "    def __init__(self):\n",
    "        super(SimpleCNN, self).__init__()\n",
    "        self.emb1 = None\n",
    "        self.emb2 = None\n",
    "        # Define the layers of the CNN\n",
    "        self.conv1 = torch.nn.Conv2d(in_channels=2, out_channels=16, kernel_size=3, stride=1)\n",
    "        self.conv2 = torch.nn.Conv2d(in_channels=16, out_channels=16, kernel_size=4, stride=1)\n",
    "        self.conv3 = torch.nn.Conv2d(in_channels=16, out_channels=2, kernel_size=5, stride=1)\n",
    "        \n",
    "        # Calculate the size after convolutions to flatten the feature map\n",
    "        self.fc1 = torch.nn.Linear(2 * 19 * 19, 128)\n",
    "        self.fc2 = torch.nn.Linear(128, 64)\n",
    "        self.fc3 = torch.nn.Linear(64, 4)\n",
    "    \n",
    "    def forward(self, x):\n",
    "        # Apply convolutions with ReLU activation and max pooling\n",
    "\n",
    "        x = F.relu(self.conv1(x))\n",
    "        x = F.relu(self.conv2(x))\n",
    "        x = F.relu(self.conv3(x))\n",
    "\n",
    "        batch_size, channels, x_dim, y_dim = x.size()\n",
    "\n",
    "        self.emb1 = x[:, 0, :, :].flatten(start_dim=1)\n",
    "        self.emb2 = x[:, 1, :, :].flatten(start_dim=1)\n",
    "        \n",
    "        # Flatten the output from the conv layers\n",
    "        x = x.view(x.size(0), -1)\n",
    "        \n",
    "        # Apply fully connected layers with ReLU\n",
    "        x = F.relu(self.fc1(x))\n",
    "        x = F.relu(self.fc2(x))\n",
    "        \n",
    "        # Final output layer (no activation since this is often used for classification)\n",
    "        x = self.fc3(x)\n",
    "        return x\n",
    "\n",
    "# Initialize the model\n",
    "model = SimpleCNN()\n",
    "\n",
    "# Print the model summary\n",
    "print(model)\n",
    "'''"
   ]
  },
  {
   "cell_type": "code",
   "execution_count": 9,
   "metadata": {},
   "outputs": [
    {
     "data": {
      "text/plain": [
       "\"\\nclass BiggerCNN(torch.nn.Module):\\n    def __init__(self):\\n        super(BiggerCNN, self).__init__()\\n        self.emb1 = None\\n        self.emb2 = None\\n\\n        # Define a deeper CNN architecture with more layers and channels\\n        self.conv1 = torch.nn.Conv2d(in_channels=2, out_channels=32, kernel_size=3, stride=1)\\n        self.conv2 = torch.nn.Conv2d(in_channels=32, out_channels=64, kernel_size=3, stride=1)\\n        self.conv3 = torch.nn.Conv2d(in_channels=64, out_channels=128, kernel_size=3, stride=1)\\n        self.conv4 = torch.nn.Conv2d(in_channels=128, out_channels=128, kernel_size=3, stride=1)\\n        self.conv5 = torch.nn.Conv2d(in_channels=128, out_channels=64, kernel_size=3, stride=1)\\n        self.conv6 = torch.nn.Conv2d(in_channels=64, out_channels=2, kernel_size=3, stride=1)\\n\\n        # Adjust the size calculation after convolutions for flattening\\n        self.fc1 = torch.nn.Linear(2 * 16 * 16, 512)  # The dimension here depends on the input size and conv layers\\n        self.fc2 = torch.nn.Linear(512, 256)\\n        self.fc3 = torch.nn.Linear(256, 128)\\n        self.fc4 = torch.nn.Linear(128, 64)\\n        self.fc5 = torch.nn.Linear(64, 4)  # Assuming a final output of 4 classes\\n\\n    def forward(self, x):\\n        # Apply convolutions with ReLU activation\\n        x = F.relu(self.conv1(x))\\n        x = F.relu(self.conv2(x))\\n        x = F.relu(self.conv3(x))\\n        x = F.relu(self.conv4(x))\\n        x = F.relu(self.conv5(x))\\n        x = F.relu(self.conv6(x))\\n\\n        batch_size, channels, x_dim, y_dim = x.size()\\n\\n        # print(f'dim x: ({x_dim}, {y_dim})')\\n\\n        # Extract embeddings after the final conv layer\\n        self.emb1 = x[:, 0, :, :].flatten(start_dim=1)\\n        self.emb2 = x[:, 1, :, :].flatten(start_dim=1)\\n\\n        # Flatten the output from the conv layers\\n        x = x.view(x.size(0), -1)\\n\\n        # Apply fully connected layers with ReLU activation\\n        x = F.relu(self.fc1(x))\\n        x = F.relu(self.fc2(x))\\n        x = F.relu(self.fc3(x))\\n        x = F.relu(self.fc4(x))\\n\\n        # Final output layer (no activation since this is often used for classification)\\n        x = self.fc5(x)\\n        return x\\n\\n# Initialize the model\\nmodel = BiggerCNN().to(device)\\n\\n# Print the model summary\\nprint(model)\\n\""
      ]
     },
     "execution_count": 9,
     "metadata": {},
     "output_type": "execute_result"
    }
   ],
   "source": [
    "'''\n",
    "class BiggerCNN(torch.nn.Module):\n",
    "    def __init__(self):\n",
    "        super(BiggerCNN, self).__init__()\n",
    "        self.emb1 = None\n",
    "        self.emb2 = None\n",
    "\n",
    "        # Define a deeper CNN architecture with more layers and channels\n",
    "        self.conv1 = torch.nn.Conv2d(in_channels=2, out_channels=32, kernel_size=3, stride=1)\n",
    "        self.conv2 = torch.nn.Conv2d(in_channels=32, out_channels=64, kernel_size=3, stride=1)\n",
    "        self.conv3 = torch.nn.Conv2d(in_channels=64, out_channels=128, kernel_size=3, stride=1)\n",
    "        self.conv4 = torch.nn.Conv2d(in_channels=128, out_channels=128, kernel_size=3, stride=1)\n",
    "        self.conv5 = torch.nn.Conv2d(in_channels=128, out_channels=64, kernel_size=3, stride=1)\n",
    "        self.conv6 = torch.nn.Conv2d(in_channels=64, out_channels=2, kernel_size=3, stride=1)\n",
    "\n",
    "        # Adjust the size calculation after convolutions for flattening\n",
    "        self.fc1 = torch.nn.Linear(2 * 16 * 16, 512)  # The dimension here depends on the input size and conv layers\n",
    "        self.fc2 = torch.nn.Linear(512, 256)\n",
    "        self.fc3 = torch.nn.Linear(256, 128)\n",
    "        self.fc4 = torch.nn.Linear(128, 64)\n",
    "        self.fc5 = torch.nn.Linear(64, 4)  # Assuming a final output of 4 classes\n",
    "\n",
    "    def forward(self, x):\n",
    "        # Apply convolutions with ReLU activation\n",
    "        x = F.relu(self.conv1(x))\n",
    "        x = F.relu(self.conv2(x))\n",
    "        x = F.relu(self.conv3(x))\n",
    "        x = F.relu(self.conv4(x))\n",
    "        x = F.relu(self.conv5(x))\n",
    "        x = F.relu(self.conv6(x))\n",
    "\n",
    "        batch_size, channels, x_dim, y_dim = x.size()\n",
    "\n",
    "        # print(f'dim x: ({x_dim}, {y_dim})')\n",
    "\n",
    "        # Extract embeddings after the final conv layer\n",
    "        self.emb1 = x[:, 0, :, :].flatten(start_dim=1)\n",
    "        self.emb2 = x[:, 1, :, :].flatten(start_dim=1)\n",
    "\n",
    "        # Flatten the output from the conv layers\n",
    "        x = x.view(x.size(0), -1)\n",
    "\n",
    "        # Apply fully connected layers with ReLU activation\n",
    "        x = F.relu(self.fc1(x))\n",
    "        x = F.relu(self.fc2(x))\n",
    "        x = F.relu(self.fc3(x))\n",
    "        x = F.relu(self.fc4(x))\n",
    "\n",
    "        # Final output layer (no activation since this is often used for classification)\n",
    "        x = self.fc5(x)\n",
    "        return x\n",
    "\n",
    "# Initialize the model\n",
    "model = BiggerCNN().to(device)\n",
    "\n",
    "# Print the model summary\n",
    "print(model)\n",
    "'''"
   ]
  },
  {
   "cell_type": "code",
   "execution_count": 10,
   "metadata": {},
   "outputs": [
    {
     "data": {
      "text/plain": [
       "'\\ndef my_loss(feat1, feat2, out, t1, t2):\\n    return torch.nn.MSELoss()(t2 - out[:, -2:], t1 - out[:, :2]) + 0.01*torch.norm(torch.norm(t2 - t1, dim=1) - torch.diag(torch.matmul(feat2, feat1.T))) # the second part is a fancy way to compute the dot product since we have a batch size\\n    # return torch.norm(torch.norm(t2 - t1, dim=1) - torch.diag(torch.matmul(feat2, feat1.T)))\\n'"
      ]
     },
     "execution_count": 10,
     "metadata": {},
     "output_type": "execute_result"
    }
   ],
   "source": [
    "'''\n",
    "def my_loss(feat1, feat2, out, t1, t2):\n",
    "    return torch.nn.MSELoss()(t2 - out[:, -2:], t1 - out[:, :2]) + 0.01*torch.norm(torch.norm(t2 - t1, dim=1) - torch.diag(torch.matmul(feat2, feat1.T))) # the second part is a fancy way to compute the dot product since we have a batch size\n",
    "    # return torch.norm(torch.norm(t2 - t1, dim=1) - torch.diag(torch.matmul(feat2, feat1.T)))\n",
    "'''"
   ]
  },
  {
   "cell_type": "code",
   "execution_count": 11,
   "metadata": {},
   "outputs": [],
   "source": [
    "vdot = torch.vmap(torch.dot)\n",
    "\n",
    "def my_loss(feat1, feat2, out, t1, t2):\n",
    "    # return torch.nn.MSELoss()(t2 - out[:, -2:], t1 - out[:, :2]) + 0.01*torch.norm(torch.norm(t2 - t1, dim=1) - vdot(feat1, feat2)) # the second part is a fancy way to compute the dot product since we have a batch size\n",
    "    return torch.norm(torch.norm(t2 - t1, dim=1) - vdot(feat1, feat2))"
   ]
  },
  {
   "cell_type": "code",
   "execution_count": 12,
   "metadata": {},
   "outputs": [],
   "source": [
    "def get_test_error(model, dataloader):\n",
    "    L2_dist = lambda feat1, feat2: torch.norm(feat1 - feat2, dim=1)\n",
    "    model.eval()\n",
    "    with torch.no_grad():\n",
    "        correct = 0\n",
    "        for x1, x2, _, _, t1, t2 in iter(dataloader):\n",
    "            t1 = t1.to(device)\n",
    "            t2 = t2.to(device)\n",
    "            # out = model(torch.concat((x1, x2))) # to put the 2 images as one input vector\n",
    "            out = model(torch.concat((x1, x2), dim=1).to(device))\n",
    "            correct += L2_dist(t2 - out[:, -2:], t1 - out[:, :2]).sum()\n",
    "        return float(correct/len(dataloader.dataset))"
   ]
  },
  {
   "cell_type": "code",
   "execution_count": 13,
   "metadata": {},
   "outputs": [],
   "source": [
    "def display_losses_and_accuracies(loss, test_error, epochs):\n",
    "    plt.figure(figsize=(12, 4))\n",
    "\n",
    "    plt.subplot(1, 2, 1)\n",
    "    plt.plot([*range(epochs)], loss, 'b-', label='Train Loss')\n",
    "    plt.title('Train Loss')\n",
    "    plt.xlabel('Epochs')\n",
    "    plt.ylabel('Loss')\n",
    "    plt.legend()\n",
    "\n",
    "    # Plot accuracy\n",
    "    plt.subplot(1, 2, 2)\n",
    "    plt.plot([*range(epochs)], test_error, 'b-', label='Test Error')\n",
    "    plt.title('Test Error')\n",
    "    plt.xlabel('Epochs')\n",
    "    plt.ylabel('Error')\n",
    "    plt.legend()\n",
    "\n",
    "    plt.tight_layout()\n",
    "    plt.show()"
   ]
  },
  {
   "cell_type": "code",
   "execution_count": 14,
   "metadata": {},
   "outputs": [
    {
     "data": {
      "text/plain": [
       "'\\ndef loss_func(feat1, feat2): # TODO: re-think better the second part\\n    # feat1 = tau2 - tau1\\n    # feat2 = output[:-2] - output[:2]\\n    # maximize average cosine similarity\\n    return -F.cosine_similarity(feat1, feat2) + torch.norm(feat1 - feat2)\\n\\nloss_func(torch.randn(3, 2), torch.randn(3, 2))\\n'"
      ]
     },
     "execution_count": 14,
     "metadata": {},
     "output_type": "execute_result"
    }
   ],
   "source": [
    "'''\n",
    "def loss_func(feat1, feat2): # TODO: re-think better the second part\n",
    "    # feat1 = tau2 - tau1\n",
    "    # feat2 = output[:-2] - output[:2]\n",
    "    # maximize average cosine similarity\n",
    "    return -F.cosine_similarity(feat1, feat2) + torch.norm(feat1 - feat2)\n",
    "\n",
    "loss_func(torch.randn(3, 2), torch.randn(3, 2))\n",
    "'''"
   ]
  },
  {
   "cell_type": "code",
   "execution_count": 15,
   "metadata": {},
   "outputs": [],
   "source": [
    "def train(model, optimizer, trainloader, testloader, lossfunc, epochs=10):\n",
    "    loss = []\n",
    "    test_error = []\n",
    "\n",
    "    for epoch in tqdm(range(epochs)):\n",
    "        losses_per_epoch = []\n",
    "        test_error.append(get_test_error(model, testloader))\n",
    "        model.train()\n",
    "        for x1, x2, x0, y, t1, t2 in iter(trainloader):\n",
    "            t1 = t1.to(device)\n",
    "            t2 = t2.to(device)\n",
    "            # out = model(torch.concat((x1, x2)))\n",
    "        \n",
    "            model(torch.concat((x1, x0), dim=1).to(device))\n",
    "            emb1 = features[\"embedding\"].clone()\n",
    "            model(torch.concat((x0, x2), dim=1).to(device))\n",
    "            emb2 = features[\"embedding\"].clone()\n",
    "            \n",
    "            out = model(torch.concat((x1, x2), dim=1).to(device))\n",
    "            # l = lossfunc(t2 - out[:, -2:], t1 - out[:, :2]) # remember to use MSE as loss func (loss with the first model)\n",
    "            l = lossfunc(emb1, emb2, out, t1, t2)\n",
    "            losses_per_epoch.append(l)\n",
    "            optimizer.zero_grad()\n",
    "            l.backward()\n",
    "            optimizer.step()\n",
    "        loss.append(fmean(losses_per_epoch))\n",
    "    \n",
    "    return (loss, test_error)"
   ]
  },
  {
   "cell_type": "code",
   "execution_count": 16,
   "metadata": {},
   "outputs": [],
   "source": [
    "optimizer = torch.optim.Adam(model.parameters(), lr=1e-2)\n",
    "# lossfunc = torch.nn.MSELoss()\n",
    "lossfunc = my_loss"
   ]
  },
  {
   "cell_type": "code",
   "execution_count": 17,
   "metadata": {},
   "outputs": [
    {
     "name": "stderr",
     "output_type": "stream",
     "text": [
      "100%|██████████| 20/20 [06:01<00:00, 18.07s/it]\n"
     ]
    }
   ],
   "source": [
    "train_loss, test_error = train(model=model, optimizer=optimizer, trainloader=trainloader, testloader=testloader, lossfunc=lossfunc, epochs=20)"
   ]
  },
  {
   "cell_type": "code",
   "execution_count": 72,
   "metadata": {},
   "outputs": [
    {
     "data": {
      "image/png": "[encoded data removed]",
      "text/plain": [
       "<Figure size 1200x400 with 2 Axes>"
      ]
     },
     "metadata": {},
     "output_type": "display_data"
    }
   ],
   "source": [
    "display_losses_and_accuracies(torch.tensor(train_loss), test_error, epochs=20)"
   ]
  },
  {
   "cell_type": "code",
   "execution_count": 19,
   "metadata": {},
   "outputs": [
    {
     "name": "stdout",
     "output_type": "stream",
     "text": [
      "Test error min: 8.28, max: 8.44, mean: 8.35, std: 0.05\n"
     ]
    }
   ],
   "source": [
    "terr = torch.tensor(test_error)\n",
    "print(f'Test error min: {terr.min():.2f}, max: {terr.max():.2f}, mean: {terr.mean():.2f}, std: {terr.std():.2f}')"
   ]
  },
  {
   "cell_type": "code",
   "execution_count": 69,
   "metadata": {},
   "outputs": [
    {
     "name": "stdout",
     "output_type": "stream",
     "text": [
      "tensor(56.0033)\n",
      "tensor(56.0377)\n",
      "tensor(39.5653)\n",
      "tensor(7.5030)\n"
     ]
    }
   ],
   "source": [
    "from scipy.linalg import circulant\n",
    "\n",
    "for p in model.parameters():\n",
    "    if p.dim() > 1:\n",
    "        if p.size(0) == p.size(1):\n",
    "            A = p.detach().cpu()\n",
    "            B = torch.tensor(circulant([*range(p.size(0))])).float()\n",
    "            eigA = torch.linalg.eig(A).eigenvectors\n",
    "            eigB = torch.linalg.eig(B).eigenvectors\n",
    "            print(torch.linalg.norm(eigA - eigB))"
   ]
  }
 ],
 "metadata": {
  "kernelspec": {
   "display_name": "base",
   "language": "python",
   "name": "python3"
  },
  "language_info": {
   "codemirror_mode": {
    "name": "ipython",
    "version": 3
   },
   "file_extension": ".py",
   "mimetype": "text/x-python",
   "name": "python",
   "nbconvert_exporter": "python",
   "pygments_lexer": "ipython3",
   "version": "3.10.9"
  }
 },
 "nbformat": 4,
 "nbformat_minor": 2
}
